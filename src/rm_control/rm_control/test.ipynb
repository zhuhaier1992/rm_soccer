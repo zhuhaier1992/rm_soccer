{
 "cells": [
  {
   "cell_type": "code",
   "execution_count": 1,
   "metadata": {},
   "outputs": [
    {
     "name": "stdout",
     "output_type": "stream",
     "text": [
      "(2.0,)\n",
      "(1.0,)\n",
      "(3.33333333333333,)\n"
     ]
    },
    {
     "data": {
      "text/plain": [
       "(2, 1.00000000000000, array([0.500000000000000, 0], dtype=object))"
      ]
     },
     "execution_count": 1,
     "metadata": {},
     "output_type": "execute_result"
    }
   ],
   "source": [
    "from utils import *\n",
    "from geometry_msgs.msg import Vector3, Pose2D\n",
    "\n",
    "\n",
    "va=Vector3(x=1.,y=0.,z=0.)\n",
    "vb=Vector3(x=0.5,y=0.,z=0.)\n",
    "pb=Pose2D(x=0.,y=0.,theta=0.)\n",
    "pa1=Pose2D(x=1.,y=1.,theta=0.)\n",
    "pa2=Pose2D(x=0.5,y=0.5,theta=0.)\n",
    "pa3=Pose2D(x=3.,y=1.,theta=0.)\n",
    "rp=RobotPose()\n",
    "rp.pose=[pb, pa1,pa2,pa3]\n",
    "# print(rp.pose)\n",
    "find_closest(rp, vb)\n",
    "# arr=pose2d_to_nparray(rp.pose)\n",
    "# nparray_to_pose2d(arr)\n",
    "# print(arr)\n",
    "# b=np.vstack((arr,arr))\n",
    "# np.clip(b, [1,1,0],5)\n",
    "\n",
    "\n"
   ]
  },
  {
   "cell_type": "code",
   "execution_count": 2,
   "metadata": {},
   "outputs": [
    {
     "data": {
      "text/plain": [
       "geometry_msgs.msg.Pose2D(x=-0.1414213562373095, y=-0.1414213562373095, theta=0.7853981633974483)"
      ]
     },
     "execution_count": 2,
     "metadata": {},
     "output_type": "execute_result"
    }
   ],
   "source": [
    "from utils import *\n",
    "\n",
    "pb=Pose2D(x=0.,y=0.,theta=0.)\n",
    "pg=Pose2D(x=1.,y=1.,theta=0.)\n",
    "shoot_position(pb, pg)\n"
   ]
  },
  {
   "cell_type": "code",
   "execution_count": 11,
   "metadata": {},
   "outputs": [
    {
     "name": "stdout",
     "output_type": "stream",
     "text": [
      "3\n",
      "4\n",
      "5\n"
     ]
    }
   ],
   "source": [
    "a=np.array([1,2,3])\n",
    "len(a)\n",
    "for i in range(3,6):\n",
    "    print(i)"
   ]
  },
  {
   "cell_type": "code",
   "execution_count": 1,
   "metadata": {},
   "outputs": [
    {
     "data": {
      "text/plain": [
       "True"
      ]
     },
     "execution_count": 1,
     "metadata": {},
     "output_type": "execute_result"
    }
   ],
   "source": [
    "3 in [1,3]"
   ]
  }
 ],
 "metadata": {
  "kernelspec": {
   "display_name": "Python 3",
   "language": "python",
   "name": "python3"
  },
  "language_info": {
   "codemirror_mode": {
    "name": "ipython",
    "version": 3
   },
   "file_extension": ".py",
   "mimetype": "text/x-python",
   "name": "python",
   "nbconvert_exporter": "python",
   "pygments_lexer": "ipython3",
   "version": "3.8.10"
  },
  "orig_nbformat": 4
 },
 "nbformat": 4,
 "nbformat_minor": 2
}
